{
  "nbformat": 4,
  "nbformat_minor": 0,
  "metadata": {
    "colab": {
      "name": "Model",
      "provenance": [],
      "collapsed_sections": []
    },
    "kernelspec": {
      "name": "python3",
      "display_name": "Python 3"
    },
    "language_info": {
      "name": "python"
    },
    "accelerator": "GPU"
  },
  "cells": [
    {
      "cell_type": "markdown",
      "metadata": {
        "id": "J8m5UHGJfdGd"
      },
      "source": [
        "# Sources\n",
        "[Dataset](https://www.kaggle.com/dhruvildave/english-handwritten-characters-dataset?select=english.csv)\n",
        "\n",
        "[Paper](http://citeseerx.ist.psu.edu/viewdoc/summary?doi=10.1.1.163.2718)"
      ]
    },
    {
      "cell_type": "markdown",
      "metadata": {
        "id": "t4ZeBtdsfmSi"
      },
      "source": [
        "# Creation of Model"
      ]
    },
    {
      "cell_type": "code",
      "metadata": {
        "id": "VCcjpmGPXQob"
      },
      "source": [
        "%pylab inline\n",
        "\n",
        "import os\n",
        "from google.colab import drive\n",
        "import numpy as np\n",
        "import pandas as pd\n",
        "import glob\n",
        "\n",
        "from fastai.vision import *\n",
        "from torch.nn.functional import *\n",
        "\n",
        "from google.colab import drive\n",
        "drive.mount('/content/drive')\n",
        "\n",
        "import warnings\n",
        "warnings.filterwarnings('ignore')"
      ],
      "execution_count": null,
      "outputs": []
    },
    {
      "cell_type": "code",
      "metadata": {
        "id": "gmMz8wLSfwVM"
      },
      "source": [
        "data_dir = '/content/drive/My Drive/Stage 4/Data'"
      ],
      "execution_count": null,
      "outputs": []
    },
    {
      "cell_type": "code",
      "metadata": {
        "id": "3F8FNNBMf2iM"
      },
      "source": [
        "labels = pd.read_csv(data_dir + '/labels.csv')"
      ],
      "execution_count": null,
      "outputs": []
    },
    {
      "cell_type": "markdown",
      "metadata": {
        "id": "QslSozSkgeqk"
      },
      "source": [
        "Loading data and labels from directory"
      ]
    },
    {
      "cell_type": "code",
      "metadata": {
        "id": "8iKiF3fTgf70"
      },
      "source": [
        "data = ImageDataBunch.from_df(path = data_dir,\n",
        "                              df=labels, \n",
        "                              valid_pct=0.1, \n",
        "                              fn_col='image', \n",
        "                              label_col='label',\n",
        "                              ds_tfms=get_transforms(), \n",
        "                              bs=50,\n",
        "                              size=256).normalize(imagenet_stats)"
      ],
      "execution_count": null,
      "outputs": []
    },
    {
      "cell_type": "code",
      "metadata": {
        "id": "fwZPHu4ujxU1"
      },
      "source": [
        "model = cnn_learner(data, models.resnet50, metrics=accuracy, loss_func = nn.CrossEntropyLoss())"
      ],
      "execution_count": null,
      "outputs": []
    },
    {
      "cell_type": "markdown",
      "metadata": {
        "id": "hCuuf7H_ghJt"
      },
      "source": [
        "Summary of our model"
      ]
    },
    {
      "cell_type": "code",
      "metadata": {
        "colab": {
          "base_uri": "https://localhost:8080/",
          "height": 1000
        },
        "id": "a10zAkO2mV_M",
        "outputId": "b41e5181-9d32-4713-81a3-e81a96c1f074"
      },
      "source": [
        "model.summary()"
      ],
      "execution_count": null,
      "outputs": [
        {
          "output_type": "execute_result",
          "data": {
            "application/vnd.google.colaboratory.intrinsic+json": {
              "type": "string"
            },
            "text/plain": [
              "Sequential\n",
              "======================================================================\n",
              "Layer (type)         Output Shape         Param #    Trainable \n",
              "======================================================================\n",
              "Conv2d               [64, 128, 128]       9,408      False     \n",
              "______________________________________________________________________\n",
              "BatchNorm2d          [64, 128, 128]       128        True      \n",
              "______________________________________________________________________\n",
              "ReLU                 [64, 128, 128]       0          False     \n",
              "______________________________________________________________________\n",
              "MaxPool2d            [64, 64, 64]         0          False     \n",
              "______________________________________________________________________\n",
              "Conv2d               [64, 64, 64]         4,096      False     \n",
              "______________________________________________________________________\n",
              "BatchNorm2d          [64, 64, 64]         128        True      \n",
              "______________________________________________________________________\n",
              "Conv2d               [64, 64, 64]         36,864     False     \n",
              "______________________________________________________________________\n",
              "BatchNorm2d          [64, 64, 64]         128        True      \n",
              "______________________________________________________________________\n",
              "Conv2d               [256, 64, 64]        16,384     False     \n",
              "______________________________________________________________________\n",
              "BatchNorm2d          [256, 64, 64]        512        True      \n",
              "______________________________________________________________________\n",
              "ReLU                 [256, 64, 64]        0          False     \n",
              "______________________________________________________________________\n",
              "Conv2d               [256, 64, 64]        16,384     False     \n",
              "______________________________________________________________________\n",
              "BatchNorm2d          [256, 64, 64]        512        True      \n",
              "______________________________________________________________________\n",
              "Conv2d               [64, 64, 64]         16,384     False     \n",
              "______________________________________________________________________\n",
              "BatchNorm2d          [64, 64, 64]         128        True      \n",
              "______________________________________________________________________\n",
              "Conv2d               [64, 64, 64]         36,864     False     \n",
              "______________________________________________________________________\n",
              "BatchNorm2d          [64, 64, 64]         128        True      \n",
              "______________________________________________________________________\n",
              "Conv2d               [256, 64, 64]        16,384     False     \n",
              "______________________________________________________________________\n",
              "BatchNorm2d          [256, 64, 64]        512        True      \n",
              "______________________________________________________________________\n",
              "ReLU                 [256, 64, 64]        0          False     \n",
              "______________________________________________________________________\n",
              "Conv2d               [64, 64, 64]         16,384     False     \n",
              "______________________________________________________________________\n",
              "BatchNorm2d          [64, 64, 64]         128        True      \n",
              "______________________________________________________________________\n",
              "Conv2d               [64, 64, 64]         36,864     False     \n",
              "______________________________________________________________________\n",
              "BatchNorm2d          [64, 64, 64]         128        True      \n",
              "______________________________________________________________________\n",
              "Conv2d               [256, 64, 64]        16,384     False     \n",
              "______________________________________________________________________\n",
              "BatchNorm2d          [256, 64, 64]        512        True      \n",
              "______________________________________________________________________\n",
              "ReLU                 [256, 64, 64]        0          False     \n",
              "______________________________________________________________________\n",
              "Conv2d               [128, 64, 64]        32,768     False     \n",
              "______________________________________________________________________\n",
              "BatchNorm2d          [128, 64, 64]        256        True      \n",
              "______________________________________________________________________\n",
              "Conv2d               [128, 32, 32]        147,456    False     \n",
              "______________________________________________________________________\n",
              "BatchNorm2d          [128, 32, 32]        256        True      \n",
              "______________________________________________________________________\n",
              "Conv2d               [512, 32, 32]        65,536     False     \n",
              "______________________________________________________________________\n",
              "BatchNorm2d          [512, 32, 32]        1,024      True      \n",
              "______________________________________________________________________\n",
              "ReLU                 [512, 32, 32]        0          False     \n",
              "______________________________________________________________________\n",
              "Conv2d               [512, 32, 32]        131,072    False     \n",
              "______________________________________________________________________\n",
              "BatchNorm2d          [512, 32, 32]        1,024      True      \n",
              "______________________________________________________________________\n",
              "Conv2d               [128, 32, 32]        65,536     False     \n",
              "______________________________________________________________________\n",
              "BatchNorm2d          [128, 32, 32]        256        True      \n",
              "______________________________________________________________________\n",
              "Conv2d               [128, 32, 32]        147,456    False     \n",
              "______________________________________________________________________\n",
              "BatchNorm2d          [128, 32, 32]        256        True      \n",
              "______________________________________________________________________\n",
              "Conv2d               [512, 32, 32]        65,536     False     \n",
              "______________________________________________________________________\n",
              "BatchNorm2d          [512, 32, 32]        1,024      True      \n",
              "______________________________________________________________________\n",
              "ReLU                 [512, 32, 32]        0          False     \n",
              "______________________________________________________________________\n",
              "Conv2d               [128, 32, 32]        65,536     False     \n",
              "______________________________________________________________________\n",
              "BatchNorm2d          [128, 32, 32]        256        True      \n",
              "______________________________________________________________________\n",
              "Conv2d               [128, 32, 32]        147,456    False     \n",
              "______________________________________________________________________\n",
              "BatchNorm2d          [128, 32, 32]        256        True      \n",
              "______________________________________________________________________\n",
              "Conv2d               [512, 32, 32]        65,536     False     \n",
              "______________________________________________________________________\n",
              "BatchNorm2d          [512, 32, 32]        1,024      True      \n",
              "______________________________________________________________________\n",
              "ReLU                 [512, 32, 32]        0          False     \n",
              "______________________________________________________________________\n",
              "Conv2d               [128, 32, 32]        65,536     False     \n",
              "______________________________________________________________________\n",
              "BatchNorm2d          [128, 32, 32]        256        True      \n",
              "______________________________________________________________________\n",
              "Conv2d               [128, 32, 32]        147,456    False     \n",
              "______________________________________________________________________\n",
              "BatchNorm2d          [128, 32, 32]        256        True      \n",
              "______________________________________________________________________\n",
              "Conv2d               [512, 32, 32]        65,536     False     \n",
              "______________________________________________________________________\n",
              "BatchNorm2d          [512, 32, 32]        1,024      True      \n",
              "______________________________________________________________________\n",
              "ReLU                 [512, 32, 32]        0          False     \n",
              "______________________________________________________________________\n",
              "Conv2d               [256, 32, 32]        131,072    False     \n",
              "______________________________________________________________________\n",
              "BatchNorm2d          [256, 32, 32]        512        True      \n",
              "______________________________________________________________________\n",
              "Conv2d               [256, 16, 16]        589,824    False     \n",
              "______________________________________________________________________\n",
              "BatchNorm2d          [256, 16, 16]        512        True      \n",
              "______________________________________________________________________\n",
              "Conv2d               [1024, 16, 16]       262,144    False     \n",
              "______________________________________________________________________\n",
              "BatchNorm2d          [1024, 16, 16]       2,048      True      \n",
              "______________________________________________________________________\n",
              "ReLU                 [1024, 16, 16]       0          False     \n",
              "______________________________________________________________________\n",
              "Conv2d               [1024, 16, 16]       524,288    False     \n",
              "______________________________________________________________________\n",
              "BatchNorm2d          [1024, 16, 16]       2,048      True      \n",
              "______________________________________________________________________\n",
              "Conv2d               [256, 16, 16]        262,144    False     \n",
              "______________________________________________________________________\n",
              "BatchNorm2d          [256, 16, 16]        512        True      \n",
              "______________________________________________________________________\n",
              "Conv2d               [256, 16, 16]        589,824    False     \n",
              "______________________________________________________________________\n",
              "BatchNorm2d          [256, 16, 16]        512        True      \n",
              "______________________________________________________________________\n",
              "Conv2d               [1024, 16, 16]       262,144    False     \n",
              "______________________________________________________________________\n",
              "BatchNorm2d          [1024, 16, 16]       2,048      True      \n",
              "______________________________________________________________________\n",
              "ReLU                 [1024, 16, 16]       0          False     \n",
              "______________________________________________________________________\n",
              "Conv2d               [256, 16, 16]        262,144    False     \n",
              "______________________________________________________________________\n",
              "BatchNorm2d          [256, 16, 16]        512        True      \n",
              "______________________________________________________________________\n",
              "Conv2d               [256, 16, 16]        589,824    False     \n",
              "______________________________________________________________________\n",
              "BatchNorm2d          [256, 16, 16]        512        True      \n",
              "______________________________________________________________________\n",
              "Conv2d               [1024, 16, 16]       262,144    False     \n",
              "______________________________________________________________________\n",
              "BatchNorm2d          [1024, 16, 16]       2,048      True      \n",
              "______________________________________________________________________\n",
              "ReLU                 [1024, 16, 16]       0          False     \n",
              "______________________________________________________________________\n",
              "Conv2d               [256, 16, 16]        262,144    False     \n",
              "______________________________________________________________________\n",
              "BatchNorm2d          [256, 16, 16]        512        True      \n",
              "______________________________________________________________________\n",
              "Conv2d               [256, 16, 16]        589,824    False     \n",
              "______________________________________________________________________\n",
              "BatchNorm2d          [256, 16, 16]        512        True      \n",
              "______________________________________________________________________\n",
              "Conv2d               [1024, 16, 16]       262,144    False     \n",
              "______________________________________________________________________\n",
              "BatchNorm2d          [1024, 16, 16]       2,048      True      \n",
              "______________________________________________________________________\n",
              "ReLU                 [1024, 16, 16]       0          False     \n",
              "______________________________________________________________________\n",
              "Conv2d               [256, 16, 16]        262,144    False     \n",
              "______________________________________________________________________\n",
              "BatchNorm2d          [256, 16, 16]        512        True      \n",
              "______________________________________________________________________\n",
              "Conv2d               [256, 16, 16]        589,824    False     \n",
              "______________________________________________________________________\n",
              "BatchNorm2d          [256, 16, 16]        512        True      \n",
              "______________________________________________________________________\n",
              "Conv2d               [1024, 16, 16]       262,144    False     \n",
              "______________________________________________________________________\n",
              "BatchNorm2d          [1024, 16, 16]       2,048      True      \n",
              "______________________________________________________________________\n",
              "ReLU                 [1024, 16, 16]       0          False     \n",
              "______________________________________________________________________\n",
              "Conv2d               [256, 16, 16]        262,144    False     \n",
              "______________________________________________________________________\n",
              "BatchNorm2d          [256, 16, 16]        512        True      \n",
              "______________________________________________________________________\n",
              "Conv2d               [256, 16, 16]        589,824    False     \n",
              "______________________________________________________________________\n",
              "BatchNorm2d          [256, 16, 16]        512        True      \n",
              "______________________________________________________________________\n",
              "Conv2d               [1024, 16, 16]       262,144    False     \n",
              "______________________________________________________________________\n",
              "BatchNorm2d          [1024, 16, 16]       2,048      True      \n",
              "______________________________________________________________________\n",
              "ReLU                 [1024, 16, 16]       0          False     \n",
              "______________________________________________________________________\n",
              "Conv2d               [512, 16, 16]        524,288    False     \n",
              "______________________________________________________________________\n",
              "BatchNorm2d          [512, 16, 16]        1,024      True      \n",
              "______________________________________________________________________\n",
              "Conv2d               [512, 8, 8]          2,359,296  False     \n",
              "______________________________________________________________________\n",
              "BatchNorm2d          [512, 8, 8]          1,024      True      \n",
              "______________________________________________________________________\n",
              "Conv2d               [2048, 8, 8]         1,048,576  False     \n",
              "______________________________________________________________________\n",
              "BatchNorm2d          [2048, 8, 8]         4,096      True      \n",
              "______________________________________________________________________\n",
              "ReLU                 [2048, 8, 8]         0          False     \n",
              "______________________________________________________________________\n",
              "Conv2d               [2048, 8, 8]         2,097,152  False     \n",
              "______________________________________________________________________\n",
              "BatchNorm2d          [2048, 8, 8]         4,096      True      \n",
              "______________________________________________________________________\n",
              "Conv2d               [512, 8, 8]          1,048,576  False     \n",
              "______________________________________________________________________\n",
              "BatchNorm2d          [512, 8, 8]          1,024      True      \n",
              "______________________________________________________________________\n",
              "Conv2d               [512, 8, 8]          2,359,296  False     \n",
              "______________________________________________________________________\n",
              "BatchNorm2d          [512, 8, 8]          1,024      True      \n",
              "______________________________________________________________________\n",
              "Conv2d               [2048, 8, 8]         1,048,576  False     \n",
              "______________________________________________________________________\n",
              "BatchNorm2d          [2048, 8, 8]         4,096      True      \n",
              "______________________________________________________________________\n",
              "ReLU                 [2048, 8, 8]         0          False     \n",
              "______________________________________________________________________\n",
              "Conv2d               [512, 8, 8]          1,048,576  False     \n",
              "______________________________________________________________________\n",
              "BatchNorm2d          [512, 8, 8]          1,024      True      \n",
              "______________________________________________________________________\n",
              "Conv2d               [512, 8, 8]          2,359,296  False     \n",
              "______________________________________________________________________\n",
              "BatchNorm2d          [512, 8, 8]          1,024      True      \n",
              "______________________________________________________________________\n",
              "Conv2d               [2048, 8, 8]         1,048,576  False     \n",
              "______________________________________________________________________\n",
              "BatchNorm2d          [2048, 8, 8]         4,096      True      \n",
              "______________________________________________________________________\n",
              "ReLU                 [2048, 8, 8]         0          False     \n",
              "______________________________________________________________________\n",
              "AdaptiveAvgPool2d    [2048, 1, 1]         0          False     \n",
              "______________________________________________________________________\n",
              "AdaptiveMaxPool2d    [2048, 1, 1]         0          False     \n",
              "______________________________________________________________________\n",
              "Flatten              [4096]               0          False     \n",
              "______________________________________________________________________\n",
              "BatchNorm1d          [4096]               8,192      True      \n",
              "______________________________________________________________________\n",
              "Dropout              [4096]               0          False     \n",
              "______________________________________________________________________\n",
              "Linear               [512]                2,097,664  True      \n",
              "______________________________________________________________________\n",
              "ReLU                 [512]                0          False     \n",
              "______________________________________________________________________\n",
              "BatchNorm1d          [512]                1,024      True      \n",
              "______________________________________________________________________\n",
              "Dropout              [512]                0          False     \n",
              "______________________________________________________________________\n",
              "Linear               [52]                 26,676     True      \n",
              "______________________________________________________________________\n",
              "\n",
              "Total params: 25,641,588\n",
              "Total trainable params: 2,186,676\n",
              "Total non-trainable params: 23,454,912\n",
              "Optimized with 'torch.optim.adam.Adam', betas=(0.9, 0.99)\n",
              "Using true weight decay as discussed in https://www.fast.ai/2018/07/02/adam-weight-decay/ \n",
              "Loss function : CrossEntropyLoss\n",
              "======================================================================\n",
              "Callbacks functions applied "
            ]
          },
          "metadata": {},
          "execution_count": 11
        }
      ]
    },
    {
      "cell_type": "markdown",
      "metadata": {
        "id": "clQQFMS2fsLL"
      },
      "source": [
        "# Finding best learning rate for the model"
      ]
    },
    {
      "cell_type": "code",
      "metadata": {
        "id": "mNifMnJHj4uc",
        "colab": {
          "base_uri": "https://localhost:8080/",
          "height": 145
        },
        "outputId": "70825871-13c5-4bcb-daae-14ad0af2dc0f"
      },
      "source": [
        "model.lr_find()"
      ],
      "execution_count": null,
      "outputs": [
        {
          "output_type": "display_data",
          "data": {
            "text/html": [
              "\n",
              "    <div>\n",
              "        <style>\n",
              "            /* Turns off some styling */\n",
              "            progress {\n",
              "                /* gets rid of default border in Firefox and Opera. */\n",
              "                border: none;\n",
              "                /* Needs to be in here for Safari polyfill so background images work as expected. */\n",
              "                background-size: auto;\n",
              "            }\n",
              "            .progress-bar-interrupted, .progress-bar-interrupted::-webkit-progress-bar {\n",
              "                background: #F44336;\n",
              "            }\n",
              "        </style>\n",
              "      <progress value='1' class='' max='2' style='width:300px; height:20px; vertical-align: middle;'></progress>\n",
              "      50.00% [1/2 11:15<11:15]\n",
              "    </div>\n",
              "    \n",
              "<table border=\"1\" class=\"dataframe\">\n",
              "  <thead>\n",
              "    <tr style=\"text-align: left;\">\n",
              "      <th>epoch</th>\n",
              "      <th>train_loss</th>\n",
              "      <th>valid_loss</th>\n",
              "      <th>accuracy</th>\n",
              "      <th>time</th>\n",
              "    </tr>\n",
              "  </thead>\n",
              "  <tbody>\n",
              "    <tr>\n",
              "      <td>0</td>\n",
              "      <td>5.263926</td>\n",
              "      <td>#na#</td>\n",
              "      <td>11:15</td>\n",
              "    </tr>\n",
              "  </tbody>\n",
              "</table><p>\n",
              "\n",
              "    <div>\n",
              "        <style>\n",
              "            /* Turns off some styling */\n",
              "            progress {\n",
              "                /* gets rid of default border in Firefox and Opera. */\n",
              "                border: none;\n",
              "                /* Needs to be in here for Safari polyfill so background images work as expected. */\n",
              "                background-size: auto;\n",
              "            }\n",
              "            .progress-bar-interrupted, .progress-bar-interrupted::-webkit-progress-bar {\n",
              "                background: #F44336;\n",
              "            }\n",
              "        </style>\n",
              "      <progress value='39' class='' max='51' style='width:300px; height:20px; vertical-align: middle;'></progress>\n",
              "      76.47% [39/51 01:41<00:31 14.1875]\n",
              "    </div>\n",
              "    "
            ],
            "text/plain": [
              "<IPython.core.display.HTML object>"
            ]
          },
          "metadata": {}
        },
        {
          "output_type": "stream",
          "name": "stdout",
          "text": [
            "LR Finder is complete, type {learner_name}.recorder.plot() to see the graph.\n"
          ]
        }
      ]
    },
    {
      "cell_type": "code",
      "metadata": {
        "id": "CWOCkxKgkE-c",
        "colab": {
          "base_uri": "https://localhost:8080/",
          "height": 279
        },
        "outputId": "192740d9-c96b-4fa8-96f1-70d13ab5193b"
      },
      "source": [
        "model.recorder.plot()"
      ],
      "execution_count": null,
      "outputs": [
        {
          "output_type": "display_data",
          "data": {
            "image/png": "[encoded data removed]",
            "text/plain": [
              "<Figure size 432x288 with 1 Axes>"
            ]
          },
          "metadata": {
            "needs_background": "light"
          }
        }
      ]
    },
    {
      "cell_type": "markdown",
      "metadata": {
        "id": "tTNj5I1ofyuk"
      },
      "source": [
        "# Training Model"
      ]
    },
    {
      "cell_type": "code",
      "metadata": {
        "id": "Dqt4piGYkHc9",
        "colab": {
          "base_uri": "https://localhost:8080/",
          "height": 175
        },
        "outputId": "88225dd0-d657-4149-ce44-5fb18bc06b0d"
      },
      "source": [
        "lr = 5e-3\n",
        "model.fit_one_cycle(4, slice(lr/10, lr))"
      ],
      "execution_count": null,
      "outputs": [
        {
          "output_type": "display_data",
          "data": {
            "text/html": [
              "<table border=\"1\" class=\"dataframe\">\n",
              "  <thead>\n",
              "    <tr style=\"text-align: left;\">\n",
              "      <th>epoch</th>\n",
              "      <th>train_loss</th>\n",
              "      <th>valid_loss</th>\n",
              "      <th>accuracy</th>\n",
              "      <th>time</th>\n",
              "    </tr>\n",
              "  </thead>\n",
              "  <tbody>\n",
              "    <tr>\n",
              "      <td>0</td>\n",
              "      <td>2.536968</td>\n",
              "      <td>1.740521</td>\n",
              "      <td>0.569930</td>\n",
              "      <td>03:26</td>\n",
              "    </tr>\n",
              "    <tr>\n",
              "      <td>1</td>\n",
              "      <td>1.558903</td>\n",
              "      <td>0.925822</td>\n",
              "      <td>0.751748</td>\n",
              "      <td>02:17</td>\n",
              "    </tr>\n",
              "    <tr>\n",
              "      <td>2</td>\n",
              "      <td>1.060643</td>\n",
              "      <td>0.871969</td>\n",
              "      <td>0.779720</td>\n",
              "      <td>02:18</td>\n",
              "    </tr>\n",
              "    <tr>\n",
              "      <td>3</td>\n",
              "      <td>0.757062</td>\n",
              "      <td>0.764658</td>\n",
              "      <td>0.807692</td>\n",
              "      <td>02:18</td>\n",
              "    </tr>\n",
              "  </tbody>\n",
              "</table>"
            ],
            "text/plain": [
              "<IPython.core.display.HTML object>"
            ]
          },
          "metadata": {}
        }
      ]
    },
    {
      "cell_type": "markdown",
      "metadata": {
        "id": "W0H8lOgGf301"
      },
      "source": [
        "Unfreezing the rest of the layers and finding a new learning rate"
      ]
    },
    {
      "cell_type": "code",
      "metadata": {
        "id": "zQ4b8HeioF-t"
      },
      "source": [
        "model.unfreeze()"
      ],
      "execution_count": null,
      "outputs": []
    },
    {
      "cell_type": "code",
      "metadata": {
        "id": "d48Wb5-aoJ-s",
        "colab": {
          "base_uri": "https://localhost:8080/",
          "height": 145
        },
        "outputId": "426424aa-8461-48de-ba86-31f34f3e1b56"
      },
      "source": [
        "model.lr_find()"
      ],
      "execution_count": null,
      "outputs": [
        {
          "output_type": "display_data",
          "data": {
            "text/html": [
              "\n",
              "    <div>\n",
              "        <style>\n",
              "            /* Turns off some styling */\n",
              "            progress {\n",
              "                /* gets rid of default border in Firefox and Opera. */\n",
              "                border: none;\n",
              "                /* Needs to be in here for Safari polyfill so background images work as expected. */\n",
              "                background-size: auto;\n",
              "            }\n",
              "            .progress-bar-interrupted, .progress-bar-interrupted::-webkit-progress-bar {\n",
              "                background: #F44336;\n",
              "            }\n",
              "        </style>\n",
              "      <progress value='1' class='' max='2' style='width:300px; height:20px; vertical-align: middle;'></progress>\n",
              "      50.00% [1/2 02:11<02:11]\n",
              "    </div>\n",
              "    \n",
              "<table border=\"1\" class=\"dataframe\">\n",
              "  <thead>\n",
              "    <tr style=\"text-align: left;\">\n",
              "      <th>epoch</th>\n",
              "      <th>train_loss</th>\n",
              "      <th>valid_loss</th>\n",
              "      <th>accuracy</th>\n",
              "      <th>time</th>\n",
              "    </tr>\n",
              "  </thead>\n",
              "  <tbody>\n",
              "    <tr>\n",
              "      <td>0</td>\n",
              "      <td>0.700249</td>\n",
              "      <td>#na#</td>\n",
              "      <td>02:11</td>\n",
              "    </tr>\n",
              "  </tbody>\n",
              "</table><p>\n",
              "\n",
              "    <div>\n",
              "        <style>\n",
              "            /* Turns off some styling */\n",
              "            progress {\n",
              "                /* gets rid of default border in Firefox and Opera. */\n",
              "                border: none;\n",
              "                /* Needs to be in here for Safari polyfill so background images work as expected. */\n",
              "                background-size: auto;\n",
              "            }\n",
              "            .progress-bar-interrupted, .progress-bar-interrupted::-webkit-progress-bar {\n",
              "                background: #F44336;\n",
              "            }\n",
              "        </style>\n",
              "      <progress value='20' class='' max='51' style='width:300px; height:20px; vertical-align: middle;'></progress>\n",
              "      39.22% [20/51 00:53<01:22 1.9628]\n",
              "    </div>\n",
              "    "
            ],
            "text/plain": [
              "<IPython.core.display.HTML object>"
            ]
          },
          "metadata": {}
        },
        {
          "output_type": "stream",
          "name": "stdout",
          "text": [
            "LR Finder is complete, type {learner_name}.recorder.plot() to see the graph.\n"
          ]
        }
      ]
    },
    {
      "cell_type": "code",
      "metadata": {
        "id": "x8Qjzakro2SM",
        "colab": {
          "base_uri": "https://localhost:8080/",
          "height": 279
        },
        "outputId": "53f79df2-7691-4e78-97c4-f5adfb8987a3"
      },
      "source": [
        "\n",
        "model.recorder.plot()"
      ],
      "execution_count": null,
      "outputs": [
        {
          "output_type": "display_data",
          "data": {
            "image/png": "[encoded data removed]",
            "text/plain": [
              "<Figure size 432x288 with 1 Axes>"
            ]
          },
          "metadata": {
            "needs_background": "light"
          }
        }
      ]
    },
    {
      "cell_type": "markdown",
      "metadata": {
        "id": "L9aPoJTmf8vM"
      },
      "source": [
        "Training model with new learning rate"
      ]
    },
    {
      "cell_type": "code",
      "metadata": {
        "id": "3KgWc7YgoXKk",
        "colab": {
          "base_uri": "https://localhost:8080/",
          "height": 300
        },
        "outputId": "a483ebf1-2d9c-450b-cb4f-d6b331730baa"
      },
      "source": [
        "lr = 1e-6\n",
        "model.fit_one_cycle(8, slice(lr/10, lr))"
      ],
      "execution_count": null,
      "outputs": [
        {
          "output_type": "display_data",
          "data": {
            "text/html": [
              "<table border=\"1\" class=\"dataframe\">\n",
              "  <thead>\n",
              "    <tr style=\"text-align: left;\">\n",
              "      <th>epoch</th>\n",
              "      <th>train_loss</th>\n",
              "      <th>valid_loss</th>\n",
              "      <th>accuracy</th>\n",
              "      <th>time</th>\n",
              "    </tr>\n",
              "  </thead>\n",
              "  <tbody>\n",
              "    <tr>\n",
              "      <td>0</td>\n",
              "      <td>0.547608</td>\n",
              "      <td>0.724975</td>\n",
              "      <td>0.807692</td>\n",
              "      <td>02:22</td>\n",
              "    </tr>\n",
              "    <tr>\n",
              "      <td>1</td>\n",
              "      <td>0.565245</td>\n",
              "      <td>0.737135</td>\n",
              "      <td>0.811189</td>\n",
              "      <td>02:24</td>\n",
              "    </tr>\n",
              "    <tr>\n",
              "      <td>2</td>\n",
              "      <td>0.572463</td>\n",
              "      <td>0.743994</td>\n",
              "      <td>0.804196</td>\n",
              "      <td>02:24</td>\n",
              "    </tr>\n",
              "    <tr>\n",
              "      <td>3</td>\n",
              "      <td>0.547550</td>\n",
              "      <td>0.723401</td>\n",
              "      <td>0.814685</td>\n",
              "      <td>02:25</td>\n",
              "    </tr>\n",
              "    <tr>\n",
              "      <td>4</td>\n",
              "      <td>0.553852</td>\n",
              "      <td>0.721093</td>\n",
              "      <td>0.818182</td>\n",
              "      <td>02:24</td>\n",
              "    </tr>\n",
              "    <tr>\n",
              "      <td>5</td>\n",
              "      <td>0.544028</td>\n",
              "      <td>0.724581</td>\n",
              "      <td>0.811189</td>\n",
              "      <td>02:24</td>\n",
              "    </tr>\n",
              "    <tr>\n",
              "      <td>6</td>\n",
              "      <td>0.516556</td>\n",
              "      <td>0.717181</td>\n",
              "      <td>0.821678</td>\n",
              "      <td>02:24</td>\n",
              "    </tr>\n",
              "    <tr>\n",
              "      <td>7</td>\n",
              "      <td>0.520729</td>\n",
              "      <td>0.720755</td>\n",
              "      <td>0.814685</td>\n",
              "      <td>02:23</td>\n",
              "    </tr>\n",
              "  </tbody>\n",
              "</table>"
            ],
            "text/plain": [
              "<IPython.core.display.HTML object>"
            ]
          },
          "metadata": {}
        }
      ]
    },
    {
      "cell_type": "markdown",
      "metadata": {
        "id": "2g3sFzaVf_gU"
      },
      "source": [
        "# Visualization of Training Results"
      ]
    },
    {
      "cell_type": "code",
      "metadata": {
        "id": "rneQ9ifzsJPG"
      },
      "source": [
        "interp = ClassificationInterpretation.from_learner(model)"
      ],
      "execution_count": null,
      "outputs": []
    },
    {
      "cell_type": "code",
      "metadata": {
        "id": "OxYtbJgZsOCu",
        "colab": {
          "base_uri": "https://localhost:8080/",
          "height": 523
        },
        "outputId": "0bc715b4-7aa0-4959-f0a5-60d3560b94eb"
      },
      "source": [
        "interp.plot_top_losses(k=12, figsize=(24,8))"
      ],
      "execution_count": null,
      "outputs": [
        {
          "output_type": "display_data",
          "data": {
            "image/png": "[encoded data removed]",
            "text/plain": [
              "<Figure size 1728x576 with 12 Axes>"
            ]
          },
          "metadata": {
            "needs_background": "light"
          }
        }
      ]
    },
    {
      "cell_type": "markdown",
      "metadata": {
        "id": "XdN6Lr1dgHfB"
      },
      "source": [
        "# Passing Data into Model"
      ]
    },
    {
      "cell_type": "code",
      "metadata": {
        "id": "FyW3iuTU1cty"
      },
      "source": [
        "import cv2\n",
        "from google.colab.patches import cv2_imshow"
      ],
      "execution_count": null,
      "outputs": []
    },
    {
      "cell_type": "code",
      "metadata": {
        "id": "96PZ7n1fZaIR"
      },
      "source": [
        "  def bb_letter(img):\n",
        "    copy = img.copy()\n",
        "    gray = cv2.cvtColor(img, cv2.COLOR_BGR2GRAY)\n",
        "    thresh = cv2.threshold(gray,0,255,cv2.THRESH_OTSU + cv2.THRESH_BINARY)[1]\n",
        "\n",
        "    cnts = cv2.findContours(thresh, cv2.RETR_EXTERNAL, cv2.CHAIN_APPROX_SIMPLE)\n",
        "    cnts = cnts[0] if len(cnts) == 2 else cnts[1]\n",
        "\n",
        "    ROI_number = 0\n",
        "    for c in cnts:\n",
        "      x,y,w,h = cv2.boundingRect(c)\n",
        "      ROI = img[y:y+h, x:x+w]\n",
        "      cv2.rectangle(copy,(x,y),(x+w,y+h),(36,255,12),2)\n",
        "      ROI_number += 1\n",
        "      \n",
        "    cv2_imshow(copy)\n",
        "    cv2.waitKey()"
      ],
      "execution_count": null,
      "outputs": []
    },
    {
      "cell_type": "markdown",
      "metadata": {
        "id": "S4NkPnEbgly9"
      },
      "source": [
        "Passing in an image and returning the predicted label"
      ]
    },
    {
      "cell_type": "code",
      "metadata": {
        "colab": {
          "base_uri": "https://localhost:8080/",
          "height": 935
        },
        "id": "ds-nIHBhaQAK",
        "outputId": "2e563d66-fd2f-450a-ac0c-f60b224d98ae"
      },
      "source": [
        "test_path = '/content/drive/MyDrive/Stage 4/Data/Img/img019-010.png'\n",
        "test_img = cv2.imread(test_path)\n",
        "pred, actual, _= model.predict(open_image(test_path))\n",
        "print(f'Predicted Label: {pred}')\n",
        "#cv2_imshow(test_img)\n",
        "bb_letter(test_img)"
      ],
      "execution_count": null,
      "outputs": [
        {
          "output_type": "stream",
          "name": "stdout",
          "text": [
            "Predicted Label: I\n"
          ]
        },
        {
          "output_type": "display_data",
          "data": {
            "image/png": "[encoded data removed]",
            "text/plain": [
              "<PIL.Image.Image image mode=RGB size=1200x900 at 0x7F59F0FE3CD0>"
            ]
          },
          "metadata": {}
        }
      ]
    },
    {
      "cell_type": "markdown",
      "metadata": {
        "id": "dxJsekprgMVG"
      },
      "source": [
        "# Calculating Percision, Recall, and Accuracy of the Test Set"
      ]
    },
    {
      "cell_type": "code",
      "metadata": {
        "id": "0opR2JAW4TH1"
      },
      "source": [
        "preds, y = model.get_preds(ds_type=DatasetType.Valid)\n",
        "acc = accuracy(preds, y)"
      ],
      "execution_count": null,
      "outputs": []
    },
    {
      "cell_type": "code",
      "metadata": {
        "id": "NzTGSFcncbZ0"
      },
      "source": [
        "preds, targs = model.get_preds(ds_type=DatasetType.Valid)\n",
        "acc = accuracy(preds, targs)"
      ],
      "execution_count": null,
      "outputs": []
    },
    {
      "cell_type": "code",
      "metadata": {
        "id": "0Wkh1QAueMdN"
      },
      "source": [
        "cfm = interp.confusion_matrix()\n",
        "cfm = np.nan_to_num(cfm)\n",
        "\n",
        "FP = cfm.sum(axis=0) - np.diag(cfm) \n",
        "FN = cfm.sum(axis=1) - np.diag(cfm) \n",
        "TP = np.diag(cfm)\n",
        "TN = cfm.sum() - (FP + FN + TP)\n",
        "\n",
        "percision = (TP / (TP + FP))\n",
        "recall = (TP / (TP + FN))\n",
        "\n",
        "percision = np.nan_to_num(percision)\n",
        "recall = np.nan_to_num(recall)"
      ],
      "execution_count": 66,
      "outputs": []
    },
    {
      "cell_type": "code",
      "metadata": {
        "colab": {
          "base_uri": "https://localhost:8080/"
        },
        "id": "Cl8mNc_geYXh",
        "outputId": "779fdbd5-6366-4444-a373-12f28b90a0d6"
      },
      "source": [
        "print(f\"Percision: {percision.sum()} \\nRecall: {recall.sum()} \\nAccuracy: {acc * 100}%\")"
      ],
      "execution_count": 68,
      "outputs": [
        {
          "output_type": "stream",
          "name": "stdout",
          "text": [
            "Percision: 43.356460206460206 \n",
            "Recall: 41.64754689754689 \n",
            "Accuracy: 81.4685287475586%\n"
          ]
        }
      ]
    },
    {
      "cell_type": "markdown",
      "metadata": {
        "id": "NLy7Bfe5gSh0"
      },
      "source": [
        "# Parsing a Word into individual letters and passing each letter into the model"
      ]
    },
    {
      "cell_type": "code",
      "metadata": {
        "id": "ZTJfhDufilIJ"
      },
      "source": [
        "%pip install gTTS"
      ],
      "execution_count": null,
      "outputs": []
    },
    {
      "cell_type": "markdown",
      "metadata": {
        "id": "AHtwnJfvgtAf"
      },
      "source": [
        "Parsing image into individual characters"
      ]
    },
    {
      "cell_type": "code",
      "metadata": {
        "id": "4Bzxb2TAxyJ1"
      },
      "source": [
        "  def extract_letter(img):\n",
        "    inv = 255 - img\n",
        "    gray = cv2.cvtColor(inv, cv2.COLOR_BGR2GRAY)\n",
        "    thresh = cv2.threshold(gray, 0, 255, cv2.THRESH_OTSU + cv2.THRESH_BINARY)[1]\n",
        "    contours = cv2.findContours(thresh, cv2.RETR_EXTERNAL, cv2.CHAIN_APPROX_SIMPLE)\n",
        "    contours = contours[0] if len(contours) == 2 else contours[1]\n",
        "\n",
        "    index = 0\n",
        "    for box in contours:\n",
        "      x,y,w,h = cv2.boundingRect(box)\n",
        "      bb = img[y:y + h, x:x + w]\n",
        "      cv2_imshow(bb)\n",
        "      cv2.imwrite(f'/content/drive/MyDrive/Stage 4/Handwriting Test/temp/img_{index}.png', bb)\n",
        "      index += 1"
      ],
      "execution_count": 75,
      "outputs": []
    },
    {
      "cell_type": "markdown",
      "metadata": {
        "id": "v2UrXd2EgwGl"
      },
      "source": [
        "Showing parsed letters"
      ]
    },
    {
      "cell_type": "code",
      "metadata": {
        "colab": {
          "base_uri": "https://localhost:8080/",
          "height": 942
        },
        "id": "x64mEa1hx1MI",
        "outputId": "5e7095c6-310b-415a-cc0b-f4cd63d62a45"
      },
      "source": [
        "test_path = '/content/drive/MyDrive/Stage 4/Handwriting Test/hello3.png'\n",
        "test_img = cv2.imread(test_path)\n",
        "\n",
        "extract_letter(test_img)"
      ],
      "execution_count": 76,
      "outputs": [
        {
          "output_type": "display_data",
          "data": {
            "image/png": "[encoded data removed]",
            "text/plain": [
              "<PIL.Image.Image image mode=RGB size=128x172 at 0x7F59D5ACC790>"
            ]
          },
          "metadata": {}
        },
        {
          "output_type": "display_data",
          "data": {
            "image/png": "[encoded data removed]",
            "text/plain": [
              "<PIL.Image.Image image mode=RGB size=129x140 at 0x7F59D5ACCE90>"
            ]
          },
          "metadata": {}
        },
        {
          "output_type": "display_data",
          "data": {
            "image/png": "[encoded data removed]",
            "text/plain": [
              "<PIL.Image.Image image mode=RGB size=139x170 at 0x7F59D5ACC850>"
            ]
          },
          "metadata": {}
        },
        {
          "output_type": "display_data",
          "data": {
            "image/png": "[encoded data removed]",
            "text/plain": [
              "<PIL.Image.Image image mode=RGB size=152x227 at 0x7F59D5ACC9D0>"
            ]
          },
          "metadata": {}
        },
        {
          "output_type": "display_data",
          "data": {
            "image/png": "[encoded data removed]",
            "text/plain": [
              "<PIL.Image.Image image mode=RGB size=126x216 at 0x7F59D5ACC350>"
            ]
          },
          "metadata": {}
        }
      ]
    },
    {
      "cell_type": "markdown",
      "metadata": {
        "id": "ONEjLu6Rgy3K"
      },
      "source": [
        "Passing letters into model"
      ]
    },
    {
      "cell_type": "code",
      "metadata": {
        "id": "ythTVn2xyAG7"
      },
      "source": [
        "dir = '/content/drive/MyDrive/Stage 4/Handwriting Test/temp/'\n",
        "pred_letters = []\n",
        "for filename in os.listdir(dir):\n",
        "    f = os.path.join(dir, filename)\n",
        "    if os.path.isfile(f):\n",
        "        pred, actual, _ = model.predict(open_image(f))\n",
        "        pred_letters.append(pred)\n",
        "        os.remove(f)"
      ],
      "execution_count": null,
      "outputs": []
    },
    {
      "cell_type": "markdown",
      "metadata": {
        "id": "MTwtFYKDg0RV"
      },
      "source": [
        "Results from model"
      ]
    },
    {
      "cell_type": "code",
      "metadata": {
        "colab": {
          "base_uri": "https://localhost:8080/"
        },
        "id": "dCjzkfRpIfLW",
        "outputId": "77acc0eb-1517-4bf3-90b3-25dd8b62abca"
      },
      "source": [
        "string = ''\n",
        "for t in pred_letters:\n",
        "  string += str(t)\n",
        "print(string)"
      ],
      "execution_count": 79,
      "outputs": [
        {
          "output_type": "stream",
          "name": "stdout",
          "text": [
            "BOLfI\n"
          ]
        }
      ]
    },
    {
      "cell_type": "markdown",
      "metadata": {
        "id": "_2FuzYIDkHBM"
      },
      "source": [
        "Converting string to speech and saving the output as an MP3"
      ]
    },
    {
      "cell_type": "code",
      "metadata": {
        "id": "NpPx_FiviujG"
      },
      "source": [
        "from gtts import gTTS\n",
        "language = 'en'\n",
        "text_to_speech = gTTS(text=string, lang=language, slow=False)\n",
        "text_to_speech.save(\"/content/drive/MyDrive/Stage 4/output.mp3\")"
      ],
      "execution_count": null,
      "outputs": []
    }
  ]
}