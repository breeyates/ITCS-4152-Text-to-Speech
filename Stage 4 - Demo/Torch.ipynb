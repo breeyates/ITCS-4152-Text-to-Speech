{
  "nbformat": 4,
  "nbformat_minor": 0,
  "metadata": {
    "colab": {
      "name": "Torch",
      "provenance": [],
      "collapsed_sections": []
    },
    "kernelspec": {
      "name": "python3",
      "display_name": "Python 3"
    },
    "language_info": {
      "name": "python"
    },
    "accelerator": "GPU"
  },
  "cells": [
    {
      "cell_type": "markdown",
      "metadata": {
        "id": "zGqukVIidx81"
      },
      "source": [
        "# Importing and Linking Drive"
      ]
    },
    {
      "cell_type": "code",
      "metadata": {
        "id": "3YxbRxvb5nk0",
        "colab": {
          "base_uri": "https://localhost:8080/"
        },
        "outputId": "bff6338a-574e-4a75-a3ea-cd66cf4fdf66"
      },
      "source": [
        "%pylab inline\n",
        "\n",
        "import os\n",
        "from google.colab import drive\n",
        "import numpy as np\n",
        "import pandas as pd\n",
        "import glob\n",
        "import matplotlib.pyplot as plt\n",
        "import cv2\n",
        "from google.colab.patches import cv2_imshow\n",
        "import pickle, gzip\n",
        "\n",
        "from fastai.vision import *\n",
        "from torch.nn.functional import *\n",
        "import torch\n",
        "from torch.utils.data import Dataset, DataLoader\n",
        "from torchvision import transforms, utils, models\n",
        "import torchvision.transforms.functional as fn\n",
        "import torchvision.datasets as datasets\n",
        "\n",
        "from google.colab import drive\n",
        "drive.mount('/content/drive')\n",
        "\n",
        "import warnings\n",
        "warnings.filterwarnings('ignore')"
      ],
      "execution_count": 1,
      "outputs": [
        {
          "output_type": "stream",
          "name": "stdout",
          "text": [
            "Populating the interactive namespace from numpy and matplotlib\n",
            "Mounted at /content/drive\n"
          ]
        }
      ]
    },
    {
      "cell_type": "markdown",
      "metadata": {
        "id": "al6edZ1Sd2w6"
      },
      "source": [
        "# Model Creation and Training"
      ]
    },
    {
      "cell_type": "markdown",
      "metadata": {
        "id": "CLKhBfaqdG9D"
      },
      "source": [
        "Loading train set and test set"
      ]
    },
    {
      "cell_type": "code",
      "metadata": {
        "id": "IBAZeThPiLt9"
      },
      "source": [
        "trainset = datasets.EMNIST(root='/content/drive/MyDrive/ITCS 5152/PG-13: Text to Speech/Stage 4/', train=True, download=True, split=\"letters\", transform=transforms.Compose([\n",
        "                               transforms.RandomRotation(degrees=(-90, -90)), transforms.RandomHorizontalFlip(p=100), transforms.ToTensor()]))"
      ],
      "execution_count": 2,
      "outputs": []
    },
    {
      "cell_type": "code",
      "metadata": {
        "id": "7GHrArnWi6aX"
      },
      "source": [
        "testset = datasets.EMNIST(root='/content/drive/MyDrive/ITCS 5152/PG-13: Text to Speech/Stage 4/', train=False, download=True, split=\"letters\", transform=transforms.Compose([\n",
        "                               transforms.RandomRotation(degrees=(-90, -90)), transforms.RandomHorizontalFlip(p=100), transforms.ToTensor()]))"
      ],
      "execution_count": 3,
      "outputs": []
    },
    {
      "cell_type": "markdown",
      "metadata": {
        "id": "XUeLI6h4dKt5"
      },
      "source": [
        "Displaying Labels/Classes"
      ]
    },
    {
      "cell_type": "code",
      "metadata": {
        "id": "22ZpayP8oHI2"
      },
      "source": [
        "labels = trainset.classes"
      ],
      "execution_count": 4,
      "outputs": []
    },
    {
      "cell_type": "code",
      "metadata": {
        "colab": {
          "base_uri": "https://localhost:8080/"
        },
        "id": "K9My887toLV2",
        "outputId": "f0d81e19-c56d-47d3-e939-b7321eba4074"
      },
      "source": [
        "labels.sort()\n",
        "print(labels)"
      ],
      "execution_count": 5,
      "outputs": [
        {
          "output_type": "stream",
          "name": "stdout",
          "text": [
            "['N/A', 'a', 'b', 'c', 'd', 'e', 'f', 'g', 'h', 'i', 'j', 'k', 'l', 'm', 'n', 'o', 'p', 'q', 'r', 's', 't', 'u', 'v', 'w', 'x', 'y', 'z']\n"
          ]
        }
      ]
    },
    {
      "cell_type": "code",
      "metadata": {
        "id": "uF2hEt87nBQy"
      },
      "source": [
        "img, label = next(iter(trainset))"
      ],
      "execution_count": 6,
      "outputs": []
    },
    {
      "cell_type": "markdown",
      "metadata": {
        "id": "GbDjLXfadeVu"
      },
      "source": [
        "Sample image and label"
      ]
    },
    {
      "cell_type": "code",
      "metadata": {
        "colab": {
          "base_uri": "https://localhost:8080/",
          "height": 283
        },
        "id": "LYDO1Xehnof1",
        "outputId": "4529901d-7de8-4b02-ef6f-bf76daa814d0"
      },
      "source": [
        "plt.imshow(img[0], cmap=\"gray\")\n",
        "print(f\"Label: {labels[label]}\")"
      ],
      "execution_count": 7,
      "outputs": [
        {
          "output_type": "stream",
          "name": "stdout",
          "text": [
            "Label: w\n"
          ]
        },
        {
          "output_type": "display_data",
          "data": {
            "image/png": "[encoded data removed]",
            "text/plain": [
              "<Figure size 432x288 with 1 Axes>"
            ]
          },
          "metadata": {
            "needs_background": "light"
          }
        }
      ]
    },
    {
      "cell_type": "markdown",
      "metadata": {
        "id": "6mDXRCJmdg3f"
      },
      "source": [
        "LeNet-5 implementation"
      ]
    },
    {
      "cell_type": "code",
      "metadata": {
        "id": "BCaUyJRsTM2i"
      },
      "source": [
        "model = nn.Sequential(nn.Conv2d(1, 6, kernel_size = 5, padding=(2,2)), nn.Tanh(), \n",
        "                     nn.AvgPool2d(2), \n",
        "                     nn.Conv2d(6, 16 , kernel_size = 5), nn.Tanh(), \n",
        "                     nn.AvgPool2d(2), \n",
        "                     nn.Conv2d(16, 120, kernel_size=5), nn.Tanh(),\n",
        "                     nn.Flatten(),\n",
        "                     nn.Linear(120, 84), nn.Tanh(),\n",
        "                     nn.Linear(84, 27))"
      ],
      "execution_count": 8,
      "outputs": []
    },
    {
      "cell_type": "code",
      "metadata": {
        "id": "zbvox6s_UhXF"
      },
      "source": [
        "import torch.nn.functional as F\n",
        "from torch import nn\n",
        "from torch import optim\n",
        "from tqdm import tqdm"
      ],
      "execution_count": 9,
      "outputs": []
    },
    {
      "cell_type": "markdown",
      "metadata": {
        "id": "wRBgnCqwdhol"
      },
      "source": [
        "Training and Validating model"
      ]
    },
    {
      "cell_type": "code",
      "metadata": {
        "colab": {
          "base_uri": "https://localhost:8080/"
        },
        "id": "Wff7ianiUMdS",
        "outputId": "ec811c34-9096-4aff-d073-eefc66f5220c"
      },
      "source": [
        "train_dl = DataLoader(trainset, batch_size=64, shuffle = True, num_workers = 4, drop_last = True)\n",
        "valid_dl = DataLoader(testset, batch_size=64, shuffle = True, num_workers = 4, drop_last = True)\n",
        "\n",
        "num_epochs = 5; lr = 1e-1; accuracies_cross_entropy = [] \n",
        "\n",
        "opt = optim.SGD(model.parameters(), lr=lr)\n",
        "for i in range(num_epochs):\n",
        "    for x, y in train_dl:\n",
        "        yhat = model(x)\n",
        "        loss = F.cross_entropy(yhat, y) \n",
        "        loss.backward() \n",
        "        opt.step(); opt.zero_grad();\n",
        "    \n",
        "  \n",
        "    model.eval() \n",
        "    with torch.no_grad():\n",
        "        x, y = next(iter(valid_dl)) \n",
        "        yhat = model(x)\n",
        "        max_values, max_indices = torch.max(yhat, dim=1)\n",
        "        accuracy = (max_indices.eq(y).sum().float()/len(y)).item()\n",
        "        accuracies_cross_entropy.append(accuracy)\n",
        "        print('Epoch: ' + str(i+1) + ', training loss = ' + str(round(loss.item(), 3)) + \\\n",
        "              ', valid accuracy = ' + str(round(accuracy, 3)))"
      ],
      "execution_count": 10,
      "outputs": [
        {
          "output_type": "stream",
          "name": "stdout",
          "text": [
            "Epoch: 1, training loss = 0.365, valid accuracy = 0.875\n",
            "Epoch: 2, training loss = 0.215, valid accuracy = 0.891\n",
            "Epoch: 3, training loss = 0.165, valid accuracy = 0.953\n",
            "Epoch: 4, training loss = 0.308, valid accuracy = 0.906\n",
            "Epoch: 5, training loss = 0.274, valid accuracy = 0.891\n",
            "Epoch: 6, training loss = 0.191, valid accuracy = 0.891\n",
            "Epoch: 7, training loss = 0.069, valid accuracy = 0.938\n",
            "Epoch: 8, training loss = 0.266, valid accuracy = 0.922\n",
            "Epoch: 9, training loss = 0.207, valid accuracy = 0.922\n",
            "Epoch: 10, training loss = 0.099, valid accuracy = 0.906\n"
          ]
        }
      ]
    },
    {
      "cell_type": "markdown",
      "metadata": {
        "id": "Tt19TJTIdkMg"
      },
      "source": [
        "Testing model with random letters from the validation set"
      ]
    },
    {
      "cell_type": "code",
      "metadata": {
        "colab": {
          "base_uri": "https://localhost:8080/",
          "height": 338
        },
        "id": "XW0QVStQdsnY",
        "outputId": "8949cd51-dbeb-4287-a342-90912681eca9"
      },
      "source": [
        "labels = trainset.classes\n",
        "\n",
        "x, y = next(iter(valid_dl))\n",
        "model.eval()\n",
        "yhat = model(x)\n",
        "\n",
        "max_values, max_indices = torch.max(yhat, dim=1)\n",
        "accuracy = (max_indices.eq(y).sum().float()/len(y)).item()\n",
        "pred_label = max_indices[0].numpy()\n",
        "actual_label = y[0].numpy()\n",
        "\n",
        "print(f\"Accuracy: {round((accuracy * 100), 3)}% \\nPredicted Label: {labels[pred_label]} \\nActual Label: {labels[actual_label]}\")\n",
        "plt.imshow(x[0].numpy()[0], cmap=\"gray\")"
      ],
      "execution_count": 11,
      "outputs": [
        {
          "output_type": "stream",
          "name": "stdout",
          "text": [
            "Accuracy: 90.625% \n",
            "Predicted Label: l \n",
            "Actual Label: l\n"
          ]
        },
        {
          "output_type": "execute_result",
          "data": {
            "text/plain": [
              "<matplotlib.image.AxesImage at 0x7f0a21cb8690>"
            ]
          },
          "metadata": {},
          "execution_count": 11
        },
        {
          "output_type": "display_data",
          "data": {
            "image/png": "[encoded data removed]",
            "text/plain": [
              "<Figure size 432x288 with 1 Axes>"
            ]
          },
          "metadata": {
            "needs_background": "light"
          }
        }
      ]
    },
    {
      "cell_type": "markdown",
      "metadata": {
        "id": "NPLKYcpN6VZR"
      },
      "source": [
        "#Bounding Boxes"
      ]
    },
    {
      "cell_type": "markdown",
      "metadata": {
        "id": "nH4RBJ4gdqAQ"
      },
      "source": [
        "Extracting Letters from a word"
      ]
    },
    {
      "cell_type": "code",
      "metadata": {
        "id": "_gJEFWME6ZTl"
      },
      "source": [
        "def extract_letter(img):\n",
        "  inv = 255 - img\n",
        "  gray = cv2.cvtColor(inv, cv2.COLOR_BGR2GRAY)\n",
        "  thresh = cv2.threshold(gray, 0, 255, cv2.THRESH_OTSU + cv2.THRESH_BINARY)[1]\n",
        "  contours = cv2.findContours(thresh, cv2.RETR_EXTERNAL, cv2.CHAIN_APPROX_SIMPLE)\n",
        "  contours = contours[0] if len(contours) == 2 else contours[1]\n",
        "  contours.sort(key=lambda x:get_contour_precedence(x, thresh.shape[1]))\n",
        "\n",
        "  index = 0\n",
        "  for box in contours:\n",
        "    x,y,w,h = cv2.boundingRect(box)\n",
        "    bb = thresh[y:y + h, x:x + w]\n",
        "    bb = cv2.resize(bb, (28, 28)) \n",
        "    cv2_imshow(bb)\n",
        "    cv2.imwrite(f'/content/drive/MyDrive/ITCS 5152/PG-13: Text to Speech/Stage 4/Handwriting Test/temp/a/img_{index}.png', bb)\n",
        "    index += 1\n",
        "\n",
        "def get_contour_precedence(contour, cols):\n",
        "    tolerance_factor = 30\n",
        "    origin = cv2.boundingRect(contour)\n",
        "    return ((origin[1] // tolerance_factor) * tolerance_factor) * cols + origin[0]"
      ],
      "execution_count": 12,
      "outputs": []
    },
    {
      "cell_type": "code",
      "metadata": {
        "id": "TJatckqQ6l3b",
        "colab": {
          "base_uri": "https://localhost:8080/",
          "height": 157
        },
        "outputId": "7f6f100d-aa40-4275-fa07-a58796d4de82"
      },
      "source": [
        "test_path = '/content/drive/MyDrive/ITCS 5152/PG-13: Text to Speech/Stage 4/Handwriting Test/hello3.png'\n",
        "test_img = cv2.imread(test_path)\n",
        "\n",
        "extract_letter(test_img)"
      ],
      "execution_count": 22,
      "outputs": [
        {
          "output_type": "display_data",
          "data": {
            "image/png": "[encoded data removed]",
            "text/plain": [
              "<PIL.Image.Image image mode=L size=28x28 at 0x7F0A21DA3150>"
            ]
          },
          "metadata": {}
        },
        {
          "output_type": "display_data",
          "data": {
            "image/png": "[encoded data removed]",
            "text/plain": [
              "<PIL.Image.Image image mode=L size=28x28 at 0x7F0A21DA3090>"
            ]
          },
          "metadata": {}
        },
        {
          "output_type": "display_data",
          "data": {
            "image/png": "[encoded data removed]",
            "text/plain": [
              "<PIL.Image.Image image mode=L size=28x28 at 0x7F0A21DA31D0>"
            ]
          },
          "metadata": {}
        },
        {
          "output_type": "display_data",
          "data": {
            "image/png": "[encoded data removed]",
            "text/plain": [
              "<PIL.Image.Image image mode=L size=28x28 at 0x7F0A21DA3410>"
            ]
          },
          "metadata": {}
        },
        {
          "output_type": "display_data",
          "data": {
            "image/png": "[encoded data removed]",
            "text/plain": [
              "<PIL.Image.Image image mode=L size=28x28 at 0x7F0A21DA3050>"
            ]
          },
          "metadata": {}
        }
      ]
    },
    {
      "cell_type": "markdown",
      "metadata": {
        "id": "3tFDiklT6mud"
      },
      "source": [
        "Pass letters into model"
      ]
    },
    {
      "cell_type": "code",
      "metadata": {
        "id": "S6UAbzuG6peU"
      },
      "source": [
        "real_dataset = datasets.ImageFolder('/content/drive/MyDrive/ITCS 5152/PG-13: Text to Speech/Stage 4/Handwriting Test/', transform=transforms.Compose([\n",
        "                             transforms.ToTensor(), transforms.Grayscale(num_output_channels=1)]))\n",
        "real_dl = DataLoader(real_dataset, batch_size=1, num_workers = 4, drop_last = True)\n",
        "pred_labels = []\n",
        "for x, y in real_dl:\n",
        "  model.eval() \n",
        "  with torch.no_grad(): \n",
        "      yhat = model(x)\n",
        "      max_values, max_indices = torch.max(yhat, dim=1)\n",
        "      pred_labels.append(max_indices[0].numpy())"
      ],
      "execution_count": 25,
      "outputs": []
    },
    {
      "cell_type": "code",
      "metadata": {
        "id": "nJch8R8wiaU3",
        "colab": {
          "base_uri": "https://localhost:8080/"
        },
        "outputId": "7df37e7b-aa31-41af-d179-8d34ecb54b90"
      },
      "source": [
        "pred_labels\n",
        "for x in pred_labels:\n",
        "  print(f\"Predicted Label: {labels[x]}\")"
      ],
      "execution_count": 26,
      "outputs": [
        {
          "output_type": "stream",
          "name": "stdout",
          "text": [
            "Predicted Label: m\n",
            "Predicted Label: l\n",
            "Predicted Label: e\n",
            "Predicted Label: l\n",
            "Predicted Label: o\n"
          ]
        }
      ]
    },
    {
      "cell_type": "code",
      "metadata": {
        "id": "uvKkzMx1rUF1",
        "colab": {
          "base_uri": "https://localhost:8080/"
        },
        "outputId": "3a5e7721-e1cd-4c58-9aae-8f0430dd5155"
      },
      "source": [
        "string = ''\n",
        "for t in pred_labels:\n",
        "  string += labels[t]\n",
        "print(string)"
      ],
      "execution_count": 27,
      "outputs": [
        {
          "output_type": "stream",
          "name": "stdout",
          "text": [
            "mlelo\n"
          ]
        }
      ]
    },
    {
      "cell_type": "markdown",
      "metadata": {
        "id": "mbj5hPV-d7yQ"
      },
      "source": [
        "# Saving String as Audio File MP3"
      ]
    },
    {
      "cell_type": "markdown",
      "metadata": {
        "id": "VNZGGsD06v-n"
      },
      "source": [
        "Convert string output and save it to MP3 File"
      ]
    },
    {
      "cell_type": "code",
      "metadata": {
        "id": "Rv4Cizvc6j6w"
      },
      "source": [
        "%pip install gTTS"
      ],
      "execution_count": null,
      "outputs": []
    },
    {
      "cell_type": "code",
      "metadata": {
        "id": "fU2XiMMy61Dp"
      },
      "source": [
        "from gtts import gTTS\n",
        "language = 'en'\n",
        "text_to_speech = gTTS(text=string, lang=language, slow=False)\n",
        "text_to_speech.save(\"/content/drive/MyDrive/ITCS 5152/PG-13: Text to Speech/Stage 4/torch_output.mp3\")"
      ],
      "execution_count": 29,
      "outputs": []
    }
  ]
}